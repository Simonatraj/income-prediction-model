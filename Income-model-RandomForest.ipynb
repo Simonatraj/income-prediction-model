{
 "cells": [
  {
   "cell_type": "code",
   "execution_count": 59,
   "id": "55d2aa7c-f7a4-4b1a-a280-70d07e61a037",
   "metadata": {},
   "outputs": [],
   "source": [
    "import pandas as pd\n",
    "from sklearn.ensemble import RandomForestClassifier\n",
    "from sklearn.metrics import classification_report"
   ]
  },
  {
   "cell_type": "code",
   "execution_count": 49,
   "id": "cac44d55-fceb-4bc2-8482-776ef7faeea5",
   "metadata": {},
   "outputs": [],
   "source": [
    "#Load dataset, Data Preprocessing, Preparing Data\n",
    "#train data \n",
    "train_data = pd.read_csv('Census_income_train.csv')\n",
    "clean_train_data = train_data[train_data['Workclass'].str.contains('\\\\?')==False]\n",
    "clean_train_data = clean_train_data[clean_train_data['Occupation'].str.contains('\\\\?')==False]\n",
    "clean_train_data = clean_train_data[clean_train_data['Native-country'].str.contains('\\\\?')==False]\n",
    "clean_train_data.reset_index(drop=True)\n",
    "train_dummies = pd.get_dummies(clean_train_data,drop_first=False)\n",
    "train_dummies = train_dummies.drop(['Income_ <=50K'],axis=1)\n",
    "X_train= train_dummies.drop(['Income_ >50K'], axis=1)\n",
    "y_train= train_dummies['Income_ >50K']\n"
   ]
  },
  {
   "cell_type": "code",
   "execution_count": 51,
   "id": "1fe0f5cf-05d6-48ac-a4d3-b7748bd13d33",
   "metadata": {},
   "outputs": [],
   "source": [
    "\n",
    "#test data\n",
    "test_data = pd.read_csv('Census_income_test.csv')\n",
    "clean_test_data = test_data[test_data['Workclass'].str.contains('\\\\?')==False]\n",
    "clean_test_data = clean_test_data[clean_test_data['Occupation'].str.contains('\\\\?')==False]\n",
    "clean_test_data = clean_test_data[clean_test_data['Native-country'].str.contains('\\\\?')==False]\n",
    "clean_test_data.reset_index(drop=True)\n",
    "test_dummies = pd.get_dummies(clean_test_data,drop_first=False)\n",
    "test_dummies = test_dummies.drop(['Income_ <=50K.'],axis=1)\n",
    "test_dummies\n",
    "X_test= test_dummies.drop(['Income_ >50K.'],axis=1)\n",
    "y_test= test_dummies['Income_ >50K.']"
   ]
  },
  {
   "cell_type": "code",
   "execution_count": 62,
   "id": "f9c42a1d-3e86-4378-91c6-2fd9117b5133",
   "metadata": {},
   "outputs": [
    {
     "name": "stdout",
     "output_type": "stream",
     "text": [
      "              precision    recall  f1-score   support\n",
      "\n",
      "       False       0.88      0.92      0.90     11360\n",
      "        True       0.72      0.62      0.66      3700\n",
      "\n",
      "    accuracy                           0.85     15060\n",
      "   macro avg       0.80      0.77      0.78     15060\n",
      "weighted avg       0.84      0.85      0.84     15060\n",
      "\n"
     ]
    }
   ],
   "source": [
    "# Training a model, prediction and report\n",
    "\n",
    "model_rf = RandomForestClassifier(random_state=42)\n",
    "model_rf.fit(X_train,y_train)\n",
    "y_pred = model_rf.predict(X_test)\n",
    "report = classification_report(y_test, y_pred)\n",
    "print(report)"
   ]
  },
  {
   "cell_type": "code",
   "execution_count": null,
   "id": "168535ca-0b98-4b95-acd6-022fadb0eed6",
   "metadata": {},
   "outputs": [],
   "source": []
  }
 ],
 "metadata": {
  "kernelspec": {
   "display_name": "Python 3 (ipykernel)",
   "language": "python",
   "name": "python3"
  },
  "language_info": {
   "codemirror_mode": {
    "name": "ipython",
    "version": 3
   },
   "file_extension": ".py",
   "mimetype": "text/x-python",
   "name": "python",
   "nbconvert_exporter": "python",
   "pygments_lexer": "ipython3",
   "version": "3.12.3"
  }
 },
 "nbformat": 4,
 "nbformat_minor": 5
}
